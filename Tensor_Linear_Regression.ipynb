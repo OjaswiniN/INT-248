{
  "nbformat": 4,
  "nbformat_minor": 0,
  "metadata": {
    "colab": {
      "name": "Tensor_Linear_Regression.ipynb",
      "provenance": [],
      "include_colab_link": true
    },
    "kernelspec": {
      "name": "python3",
      "display_name": "Python 3"
    },
    "language_info": {
      "name": "python"
    },
    "gpuClass": "standard"
  },
  "cells": [
    {
      "cell_type": "markdown",
      "metadata": {
        "id": "view-in-github",
        "colab_type": "text"
      },
      "source": [
        "<a href=\"https://colab.research.google.com/github/OjaswiniN/INT-248/blob/main/Tensor_Linear_Regression.ipynb\" target=\"_parent\"><img src=\"https://colab.research.google.com/assets/colab-badge.svg\" alt=\"Open In Colab\"/></a>"
      ]
    },
    {
      "cell_type": "code",
      "metadata": {
        "id": "Ndmdi-axBCqy"
      },
      "source": [
        "import tensorflow as tf\n",
        "TRUE_W=3.0\n",
        "TRUE_b=2.0\n",
        "NUM_EXAMPLES=1000\n",
        "learning_rate=1.0\n",
        "inputs = tf.random.normal(shape=[NUM_EXAMPLES])\n",
        "noise = tf.random.normal(shape=[NUM_EXAMPLES])\n",
        "outputs=inputs*TRUE_W+TRUE_b+noise"
      ],
      "execution_count": null,
      "outputs": []
    },
    {
      "cell_type": "code",
      "source": [
        "import matplotlib.pyplot as plt\n",
        "plt.scatter(inputs,outputs, c='b')"
      ],
      "metadata": {
        "colab": {
          "base_uri": "https://localhost:8080/",
          "height": 282
        },
        "id": "ms0YAlrc49dn",
        "outputId": "928c794f-d438-40c6-9b3c-adae89a547e0"
      },
      "execution_count": null,
      "outputs": [
        {
          "output_type": "execute_result",
          "data": {
            "text/plain": [
              "<matplotlib.collections.PathCollection at 0x7f009e7e2f10>"
            ]
          },
          "metadata": {},
          "execution_count": 2
        },
        {
          "output_type": "display_data",
          "data": {
            "text/plain": [
              "<Figure size 432x288 with 1 Axes>"
            ],
            "image/png": "[encoded data removed]"
          },
          "metadata": {
            "needs_background": "light"
          }
        }
      ]
    },
    {
      "cell_type": "code",
      "source": [
        "class Model(object):\n",
        "  def __init__(self):\n",
        "    self.W=tf.Variable(5.0)\n",
        "    self.b=tf.Variable(0.0)\n",
        "  def __call__(self, x):\n",
        "    return self.W * x + self.b\n",
        "model=Model()\n",
        "assert model(3.0).numpy()==15.0"
      ],
      "metadata": {
        "id": "gPvyZuE33gPX"
      },
      "execution_count": null,
      "outputs": []
    },
    {
      "cell_type": "code",
      "metadata": {
        "id": "vdAC29VNDWan"
      },
      "source": [
        "def loss(target_y, predicted_y):\n",
        "  return tf.reduce_mean(tf.square(target_y-predicted_y))"
      ],
      "execution_count": null,
      "outputs": []
    },
    {
      "cell_type": "code",
      "metadata": {
        "id": "ShiKra7mFiEf"
      },
      "source": [
        ""
      ],
      "execution_count": null,
      "outputs": []
    },
    {
      "cell_type": "code",
      "metadata": {
        "colab": {
          "base_uri": "https://localhost:8080/",
          "height": 282
        },
        "id": "JAEuWH5aGQiZ",
        "outputId": "77bc2009-32f3-46d5-a0a2-98851c373c9c"
      },
      "source": [
        "import matplotlib.pyplot as plt\n",
        "plt.scatter(inputs,outputs, c='b')\n",
        "plt.scatter(inputs, model(inputs),c='r')\n",
        "plt.show()\n",
        "print('current loss: %1.6f%', loss(model(inputs), outputs).numpy())"
      ],
      "execution_count": null,
      "outputs": [
        {
          "output_type": "display_data",
          "data": {
            "text/plain": [
              "<Figure size 432x288 with 1 Axes>"
            ],
            "image/png": "[encoded data removed]"
          },
          "metadata": {
            "needs_background": "light"
          }
        },
        {
          "output_type": "stream",
          "name": "stdout",
          "text": [
            "current loss: %1.6f% 9.08965\n"
          ]
        }
      ]
    },
    {
      "cell_type": "code",
      "metadata": {
        "id": "xKFa4UmCIE_m"
      },
      "source": [
        "def train(model, inputs, outputs,learning_rate ):\n",
        "  with tf.GradientTape() as t:\n",
        "    current_loss=loss(outputs,model(inputs))\n",
        "  dW, db= t.gradient(current_loss, [model.W, model.b])\n",
        "  model.W.assign_sub(learning_rate*dW)\n",
        "  model.b.assign_sub(learning_rate*db)  \n",
        "  "
      ],
      "execution_count": null,
      "outputs": []
    },
    {
      "cell_type": "code",
      "metadata": {
        "colab": {
          "base_uri": "https://localhost:8080/"
        },
        "id": "9Me7ar3dLlRE",
        "outputId": "ce549d13-07fe-4c7d-ed48-cc7f206527b0"
      },
      "source": [
        "model = Model()\n",
        "Ws, bs = [], []\n",
        "epochs = range(10)\n",
        "for epoch in epochs:\n",
        "  Ws.append(model.W.numpy())\n",
        "  bs.append(model.b.numpy())\n",
        "  current_loss=loss(outputs, model(inputs))\n",
        "  train(model, inputs, outputs, learning_rate=0.1)\n",
        "  print('Epoch %2d: W=%1.2f b=%1.2f, loss = %2f' %(epoch, Ws[-1], bs[-1],current_loss))"
      ],
      "execution_count": null,
      "outputs": [
        {
          "output_type": "stream",
          "name": "stdout",
          "text": [
            "Epoch  0: W=5.00 b=0.00, loss = 9.089650\n",
            "Epoch  1: W=4.60 b=0.40, loss = 6.175256\n",
            "Epoch  2: W=4.28 b=0.73, loss = 4.298257\n",
            "Epoch  3: W=4.02 b=0.99, loss = 3.089355\n",
            "Epoch  4: W=3.82 b=1.20, loss = 2.310730\n",
            "Epoch  5: W=3.65 b=1.37, loss = 1.809225\n",
            "Epoch  6: W=3.52 b=1.51, loss = 1.486203\n",
            "Epoch  7: W=3.42 b=1.62, loss = 1.278138\n",
            "Epoch  8: W=3.33 b=1.70, loss = 1.144115\n",
            "Epoch  9: W=3.26 b=1.77, loss = 1.057785\n"
          ]
        }
      ]
    },
    {
      "cell_type": "code",
      "metadata": {
        "colab": {
          "base_uri": "https://localhost:8080/",
          "height": 265
        },
        "id": "u76n4t5MRjE7",
        "outputId": "447b0e46-d514-4307-97b4-8fd0197bfb53"
      },
      "source": [
        "plt.plot(epochs,Ws,'r',epochs,bs,'b')\n",
        "plt.plot([TRUE_W]*len(epochs),'r--', [TRUE_b]*len(epochs),'b--')\n",
        "plt.legend(['W', 'b', 'True W', 'True b'])\n",
        "plt.show()"
      ],
      "execution_count": null,
      "outputs": [
        {
          "output_type": "display_data",
          "data": {
            "text/plain": [
              "<Figure size 432x288 with 1 Axes>"
            ],
            "image/png": "[encoded data removed]"
          },
          "metadata": {
            "needs_background": "light"
          }
        }
      ]
    },
    {
      "cell_type": "code",
      "metadata": {
        "id": "rDtJZKr9T2O8",
        "outputId": "0f08dae7-92e2-4542-8007-b25435cbbe75",
        "colab": {
          "base_uri": "https://localhost:8080/",
          "height": 282
        }
      },
      "source": [
        "plt.scatter(inputs,outputs, c='b')\n",
        "plt.scatter(inputs, model(inputs),c='r')\n",
        "plt.show()\n",
        "print('current loss: %1.6f%', loss(model(inputs), outputs).numpy())"
      ],
      "execution_count": null,
      "outputs": [
        {
          "output_type": "display_data",
          "data": {
            "text/plain": [
              "<Figure size 432x288 with 1 Axes>"
            ],
            "image/png": "[encoded data removed]"
          },
          "metadata": {
            "needs_background": "light"
          }
        },
        {
          "output_type": "stream",
          "name": "stdout",
          "text": [
            "current loss: %1.6f% 1.0021746\n"
          ]
        }
      ]
    },
    {
      "cell_type": "code",
      "source": [
        ""
      ],
      "metadata": {
        "id": "IW2ARCU3OLN4"
      },
      "execution_count": null,
      "outputs": []
    }
  ]
}